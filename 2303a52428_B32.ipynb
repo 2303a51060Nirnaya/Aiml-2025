{
  "nbformat": 4,
  "nbformat_minor": 0,
  "metadata": {
    "colab": {
      "provenance": [],
      "authorship_tag": "ABX9TyPPubsreH0ywRbp7IkuJpDj",
      "include_colab_link": true
    },
    "kernelspec": {
      "name": "python3",
      "display_name": "Python 3"
    },
    "language_info": {
      "name": "python"
    }
  },
  "cells": [
    {
      "cell_type": "markdown",
      "metadata": {
        "id": "view-in-github",
        "colab_type": "text"
      },
      "source": [
        "<a href=\"https://colab.research.google.com/github/2303a51060Nirnaya/Aiml-2025/blob/main/2303a52428_B32.ipynb\" target=\"_parent\"><img src=\"https://colab.research.google.com/assets/colab-badge.svg\" alt=\"Open In Colab\"/></a>"
      ]
    },
    {
      "cell_type": "markdown",
      "source": [
        "Prediction of Air Quality in Italian Cities\n",
        "1. Identify the top 5 reasons for air quality\n",
        " 2. Identify the Day of week with most air quality issues\n",
        " 3. Find the max and min air quality levels\n",
        " 4. Identify the highest and lowest temperatures of air quality\n",
        " 5. Identify the highest educational qualification of the employees. Air Quality UCI ML Repo adings you add to the document appear here:\n",
        "  6. Apply either Classification Model or Clustering Model to evaluate the dataset"
      ],
      "metadata": {
        "id": "xP7iILRSEYvi"
      }
    },
    {
      "cell_type": "code",
      "source": [
        "import pandas as pd\n",
        "import numpy as np\n",
        "from sklearn.model_selection import train_test_split\n",
        "from sklearn.ensemble import RandomForestRegressor\n",
        "from sklearn.metrics import mean_squared_error, r2_score\n",
        "import matplotlib.pyplot as plt\n",
        "import seaborn as sns"
      ],
      "metadata": {
        "id": "mNF7o_IYFqgB"
      },
      "execution_count": 6,
      "outputs": []
    },
    {
      "cell_type": "code",
      "source": [
        "import pandas as pd\n",
        "data = pd.read_csv('/content/AirQualityUCI.csv', sep=';')\n",
        "print(data.head())\n",
        "\n",
        "data['Date'] = pd.to_datetime(data['Date'], format='%d/%m/%Y')\n",
        "data['day_of_week'] = data['Date'].dt.day_name()\n",
        "data['CO(GT)'] = pd.to_numeric(data['CO(GT)'], errors='coerce')\n",
        "mean_co_per_day = data.groupby('day_of_week')['CO(GT)'].mean()\n",
        "most_issues_day = mean_co_per_day.idxmax()\n",
        "print(\"Day of the week with most air quality issues (based on CO):\", most_issues_day)"
      ],
      "metadata": {
        "colab": {
          "base_uri": "https://localhost:8080/"
        },
        "id": "YGrqAnCIGrBz",
        "outputId": "93859176-8f40-49dd-8bb5-feb29517537b"
      },
      "execution_count": 11,
      "outputs": [
        {
          "output_type": "stream",
          "name": "stdout",
          "text": [
            "         Date      Time CO(GT)  PT08.S1(CO)  NMHC(GT) C6H6(GT)  PT08.S2(NMHC)  \\\n",
            "0  10/03/2004  18.00.00    2,6       1360.0     150.0     11,9         1046.0   \n",
            "1  10/03/2004  19.00.00      2       1292.0     112.0      9,4          955.0   \n",
            "2  10/03/2004  20.00.00    2,2       1402.0      88.0      9,0          939.0   \n",
            "3  10/03/2004  21.00.00    2,2       1376.0      80.0      9,2          948.0   \n",
            "4  10/03/2004  22.00.00    1,6       1272.0      51.0      6,5          836.0   \n",
            "\n",
            "   NOx(GT)  PT08.S3(NOx)  NO2(GT)  PT08.S4(NO2)  PT08.S5(O3)     T    RH  \\\n",
            "0    166.0        1056.0    113.0        1692.0       1268.0  13,6  48,9   \n",
            "1    103.0        1174.0     92.0        1559.0        972.0  13,3  47,7   \n",
            "2    131.0        1140.0    114.0        1555.0       1074.0  11,9  54,0   \n",
            "3    172.0        1092.0    122.0        1584.0       1203.0  11,0  60,0   \n",
            "4    131.0        1205.0    116.0        1490.0       1110.0  11,2  59,6   \n",
            "\n",
            "       AH  Unnamed: 15  Unnamed: 16  \n",
            "0  0,7578          NaN          NaN  \n",
            "1  0,7255          NaN          NaN  \n",
            "2  0,7502          NaN          NaN  \n",
            "3  0,7867          NaN          NaN  \n",
            "4  0,7888          NaN          NaN  \n",
            "Day of the week with most air quality issues (based on CO): Friday\n"
          ]
        }
      ]
    },
    {
      "cell_type": "code",
      "source": [
        "import pandas as pd\n",
        "data = pd.read_csv('/content/AirQualityUCI.csv', sep=';')\n",
        "\n",
        "print(data.head())\n",
        "data['CO(GT)'] = pd.to_numeric(data['CO(GT)'], errors='coerce')\n",
        "max_aqi = data['CO(GT)'].max()\n",
        "min_aqi = data['CO(GT)'].min()\n",
        "print(\"Maximum Air Quality Index (AQI):\", max_aqi)\n",
        "print(\"Minimum Air Quality Index (AQI):\", min_aqi)"
      ],
      "metadata": {
        "colab": {
          "base_uri": "https://localhost:8080/"
        },
        "id": "HPTp5UwOHDVi",
        "outputId": "24939d4f-1905-4da8-9a1f-9cadbb827fff"
      },
      "execution_count": 14,
      "outputs": [
        {
          "output_type": "stream",
          "name": "stdout",
          "text": [
            "         Date      Time CO(GT)  PT08.S1(CO)  NMHC(GT) C6H6(GT)  PT08.S2(NMHC)  \\\n",
            "0  10/03/2004  18.00.00    2,6       1360.0     150.0     11,9         1046.0   \n",
            "1  10/03/2004  19.00.00      2       1292.0     112.0      9,4          955.0   \n",
            "2  10/03/2004  20.00.00    2,2       1402.0      88.0      9,0          939.0   \n",
            "3  10/03/2004  21.00.00    2,2       1376.0      80.0      9,2          948.0   \n",
            "4  10/03/2004  22.00.00    1,6       1272.0      51.0      6,5          836.0   \n",
            "\n",
            "   NOx(GT)  PT08.S3(NOx)  NO2(GT)  PT08.S4(NO2)  PT08.S5(O3)     T    RH  \\\n",
            "0    166.0        1056.0    113.0        1692.0       1268.0  13,6  48,9   \n",
            "1    103.0        1174.0     92.0        1559.0        972.0  13,3  47,7   \n",
            "2    131.0        1140.0    114.0        1555.0       1074.0  11,9  54,0   \n",
            "3    172.0        1092.0    122.0        1584.0       1203.0  11,0  60,0   \n",
            "4    131.0        1205.0    116.0        1490.0       1110.0  11,2  59,6   \n",
            "\n",
            "       AH  Unnamed: 15  Unnamed: 16  \n",
            "0  0,7578          NaN          NaN  \n",
            "1  0,7255          NaN          NaN  \n",
            "2  0,7502          NaN          NaN  \n",
            "3  0,7867          NaN          NaN  \n",
            "4  0,7888          NaN          NaN  \n",
            "Maximum Air Quality Index (AQI): 8.0\n",
            "Minimum Air Quality Index (AQI): -200.0\n"
          ]
        }
      ]
    },
    {
      "cell_type": "code",
      "source": [
        "import pandas as pd\n",
        "data = pd.read_csv('/content/AirQualityUCI.csv', sep=';')\n",
        "print(data.head())\n",
        "data['T'] = pd.to_numeric(data['T'], errors='coerce')\n",
        "max_temperature = data['T'].max()\n",
        "min_temperature = data['T'].min()\n",
        "print(\"Highest Temperature associated with air quality:\", max_temperature)\n",
        "print(\"Lowest Temperature associated with air quality:\", min_temperature)"
      ],
      "metadata": {
        "colab": {
          "base_uri": "https://localhost:8080/"
        },
        "id": "Zm9CtoSOHdse",
        "outputId": "03c6901c-d6c9-4dc8-d0af-fb28f436d926"
      },
      "execution_count": 18,
      "outputs": [
        {
          "output_type": "stream",
          "name": "stdout",
          "text": [
            "         Date      Time CO(GT)  PT08.S1(CO)  NMHC(GT) C6H6(GT)  PT08.S2(NMHC)  \\\n",
            "0  10/03/2004  18.00.00    2,6       1360.0     150.0     11,9         1046.0   \n",
            "1  10/03/2004  19.00.00      2       1292.0     112.0      9,4          955.0   \n",
            "2  10/03/2004  20.00.00    2,2       1402.0      88.0      9,0          939.0   \n",
            "3  10/03/2004  21.00.00    2,2       1376.0      80.0      9,2          948.0   \n",
            "4  10/03/2004  22.00.00    1,6       1272.0      51.0      6,5          836.0   \n",
            "\n",
            "   NOx(GT)  PT08.S3(NOx)  NO2(GT)  PT08.S4(NO2)  PT08.S5(O3)     T    RH  \\\n",
            "0    166.0        1056.0    113.0        1692.0       1268.0  13,6  48,9   \n",
            "1    103.0        1174.0     92.0        1559.0        972.0  13,3  47,7   \n",
            "2    131.0        1140.0    114.0        1555.0       1074.0  11,9  54,0   \n",
            "3    172.0        1092.0    122.0        1584.0       1203.0  11,0  60,0   \n",
            "4    131.0        1205.0    116.0        1490.0       1110.0  11,2  59,6   \n",
            "\n",
            "       AH  Unnamed: 15  Unnamed: 16  \n",
            "0  0,7578          NaN          NaN  \n",
            "1  0,7255          NaN          NaN  \n",
            "2  0,7502          NaN          NaN  \n",
            "3  0,7867          NaN          NaN  \n",
            "4  0,7888          NaN          NaN  \n",
            "Highest Temperature associated with air quality: -200.0\n",
            "Lowest Temperature associated with air quality: -200.0\n"
          ]
        }
      ]
    },
    {
      "cell_type": "code",
      "source": [
        "import pandas as pd\n",
        "data = pd.read_csv('/content/AirQualityUCI.csv', sep=';')\n",
        "print(data.head())\n",
        "data['T'] = pd.to_numeric(data['T'], errors='coerce')\n",
        "max_temperature = data['T'].max()\n",
        "min_temperature = data['T'].min()\n",
        "print(\"Highest Temperature associated with air quality:\", max_temperature)\n",
        "print(\"Lowest Temperature associated with air quality:\", min_temperature)"
      ],
      "metadata": {
        "colab": {
          "base_uri": "https://localhost:8080/"
        },
        "id": "85Pqf_6OH_Bn",
        "outputId": "3692f671-42e8-47ed-edd6-55eaf6fb5bbc"
      },
      "execution_count": 22,
      "outputs": [
        {
          "output_type": "stream",
          "name": "stdout",
          "text": [
            "         Date      Time CO(GT)  PT08.S1(CO)  NMHC(GT) C6H6(GT)  PT08.S2(NMHC)  \\\n",
            "0  10/03/2004  18.00.00    2,6       1360.0     150.0     11,9         1046.0   \n",
            "1  10/03/2004  19.00.00      2       1292.0     112.0      9,4          955.0   \n",
            "2  10/03/2004  20.00.00    2,2       1402.0      88.0      9,0          939.0   \n",
            "3  10/03/2004  21.00.00    2,2       1376.0      80.0      9,2          948.0   \n",
            "4  10/03/2004  22.00.00    1,6       1272.0      51.0      6,5          836.0   \n",
            "\n",
            "   NOx(GT)  PT08.S3(NOx)  NO2(GT)  PT08.S4(NO2)  PT08.S5(O3)     T    RH  \\\n",
            "0    166.0        1056.0    113.0        1692.0       1268.0  13,6  48,9   \n",
            "1    103.0        1174.0     92.0        1559.0        972.0  13,3  47,7   \n",
            "2    131.0        1140.0    114.0        1555.0       1074.0  11,9  54,0   \n",
            "3    172.0        1092.0    122.0        1584.0       1203.0  11,0  60,0   \n",
            "4    131.0        1205.0    116.0        1490.0       1110.0  11,2  59,6   \n",
            "\n",
            "       AH  Unnamed: 15  Unnamed: 16  \n",
            "0  0,7578          NaN          NaN  \n",
            "1  0,7255          NaN          NaN  \n",
            "2  0,7502          NaN          NaN  \n",
            "3  0,7867          NaN          NaN  \n",
            "4  0,7888          NaN          NaN  \n",
            "Highest Temperature associated with air quality: -200.0\n",
            "Lowest Temperature associated with air quality: -200.0\n"
          ]
        }
      ]
    },
    {
      "cell_type": "code",
      "source": [
        "import pandas as pd\n",
        "from sklearn.model_selection import train_test_split\n",
        "from sklearn.ensemble import RandomForestClassifier\n",
        "from sklearn.metrics import classification_report, confusion_matrix\n",
        "from sklearn.cluster import KMeans\n",
        "import matplotlib.pyplot as plt\n",
        "import seaborn as sns\n",
        "try:\n",
        "    data = pd.read_csv('employees_data.csv')\n",
        "except FileNotFoundError:\n",
        "    print(\"File 'employees_data.csv' not found. Please make sure the file is in the correct directory or provide the full path.\")\n",
        "print(data.head())"
      ],
      "metadata": {
        "colab": {
          "base_uri": "https://localhost:8080/"
        },
        "id": "agjw6UYJIZ2n",
        "outputId": "65059f4e-7d64-4392-c9d3-c911ce435f69"
      },
      "execution_count": 24,
      "outputs": [
        {
          "output_type": "stream",
          "name": "stdout",
          "text": [
            "File 'employees_data.csv' not found. Please make sure the file is in the correct directory or provide the full path.\n",
            "         Date      Time CO(GT)  PT08.S1(CO)  NMHC(GT) C6H6(GT)  PT08.S2(NMHC)  \\\n",
            "0  10/03/2004  18.00.00    2,6       1360.0     150.0     11,9         1046.0   \n",
            "1  10/03/2004  19.00.00      2       1292.0     112.0      9,4          955.0   \n",
            "2  10/03/2004  20.00.00    2,2       1402.0      88.0      9,0          939.0   \n",
            "3  10/03/2004  21.00.00    2,2       1376.0      80.0      9,2          948.0   \n",
            "4  10/03/2004  22.00.00    1,6       1272.0      51.0      6,5          836.0   \n",
            "\n",
            "   NOx(GT)  PT08.S3(NOx)  NO2(GT)  PT08.S4(NO2)  PT08.S5(O3)   T    RH  \\\n",
            "0    166.0        1056.0    113.0        1692.0       1268.0 NaN  48,9   \n",
            "1    103.0        1174.0     92.0        1559.0        972.0 NaN  47,7   \n",
            "2    131.0        1140.0    114.0        1555.0       1074.0 NaN  54,0   \n",
            "3    172.0        1092.0    122.0        1584.0       1203.0 NaN  60,0   \n",
            "4    131.0        1205.0    116.0        1490.0       1110.0 NaN  59,6   \n",
            "\n",
            "       AH  Unnamed: 15  Unnamed: 16  \n",
            "0  0,7578          NaN          NaN  \n",
            "1  0,7255          NaN          NaN  \n",
            "2  0,7502          NaN          NaN  \n",
            "3  0,7867          NaN          NaN  \n",
            "4  0,7888          NaN          NaN  \n"
          ]
        }
      ]
    },
    {
      "cell_type": "code",
      "source": [
        "import pandas as pd\n",
        "from sklearn.model_selection import train_test_split\n",
        "from sklearn.ensemble import RandomForestClassifier\n",
        "from sklearn.metrics import classification_report, confusion_matrix\n",
        "data = pd.read_csv('/content/AirQualityUCI.csv', sep=';')\n",
        "data['CO(GT)'] = pd.to_numeric(data['CO(GT)'], errors='coerce')\n",
        "data['AirQuality'] = pd.cut(data['CO(GT)'], bins=[-float('inf'), 5, 10, float('inf')], labels=['Good', 'Moderate', 'Unhealthy'])\n",
        "data.dropna(subset=['AirQuality'], inplace=True)\n",
        "X = data[['T', 'RH', 'AH']]\n",
        "y = data['AirQuality']\n",
        "for col in X.columns:\n",
        "    X[col] = pd.to_numeric(X[col], errors='coerce')\n",
        "X.dropna(inplace=True)\n",
        "y = y[X.index]\n",
        "X_train, X_test, y_train, y_test = train_test_split(X, y, test_size=0.2, random_state=42)\n",
        "classifier = RandomForestClassifier(n_estimators=100, random_state=42)\n",
        "classifier.fit(X_train, y_train)\n",
        "y_pred = classifier.predict(X_test)\n",
        "print(\"Classification Report:\\n\", classification_report(y_test, y_pred))\n",
        "print(\"Confusion Matrix:\\n\", confusion_matrix(y_test, y_pred))"
      ],
      "metadata": {
        "colab": {
          "base_uri": "https://localhost:8080/"
        },
        "id": "SDJDwMV6Ic7l",
        "outputId": "ff87d7e1-400c-43c0-b64e-d48de89d2b92"
      },
      "execution_count": 25,
      "outputs": [
        {
          "output_type": "stream",
          "name": "stderr",
          "text": [
            "<ipython-input-25-94c5bf21f485>:29: SettingWithCopyWarning: \n",
            "A value is trying to be set on a copy of a slice from a DataFrame.\n",
            "Try using .loc[row_indexer,col_indexer] = value instead\n",
            "\n",
            "See the caveats in the documentation: https://pandas.pydata.org/pandas-docs/stable/user_guide/indexing.html#returning-a-view-versus-a-copy\n",
            "  X[col] = pd.to_numeric(X[col], errors='coerce')\n",
            "<ipython-input-25-94c5bf21f485>:32: SettingWithCopyWarning: \n",
            "A value is trying to be set on a copy of a slice from a DataFrame\n",
            "\n",
            "See the caveats in the documentation: https://pandas.pydata.org/pandas-docs/stable/user_guide/indexing.html#returning-a-view-versus-a-copy\n",
            "  X.dropna(inplace=True)\n"
          ]
        },
        {
          "output_type": "stream",
          "name": "stdout",
          "text": [
            "Classification Report:\n",
            "               precision    recall  f1-score   support\n",
            "\n",
            "        Good       1.00      1.00      1.00        13\n",
            "\n",
            "    accuracy                           1.00        13\n",
            "   macro avg       1.00      1.00      1.00        13\n",
            "weighted avg       1.00      1.00      1.00        13\n",
            "\n",
            "Confusion Matrix:\n",
            " [[13]]\n"
          ]
        },
        {
          "output_type": "stream",
          "name": "stderr",
          "text": [
            "/usr/local/lib/python3.10/dist-packages/sklearn/metrics/_classification.py:409: UserWarning: A single label was found in 'y_true' and 'y_pred'. For the confusion matrix to have the correct shape, use the 'labels' parameter to pass all known labels.\n",
            "  warnings.warn(\n"
          ]
        }
      ]
    }
  ]
}