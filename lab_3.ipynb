{
  "nbformat": 4,
  "nbformat_minor": 0,
  "metadata": {
    "colab": {
      "provenance": [],
      "authorship_tag": "ABX9TyNqgyXrhm+Uw8mdoycK68L5",
      "include_colab_link": true
    },
    "kernelspec": {
      "name": "python3",
      "display_name": "Python 3"
    },
    "language_info": {
      "name": "python"
    }
  },
  "cells": [
    {
      "cell_type": "markdown",
      "metadata": {
        "id": "view-in-github",
        "colab_type": "text"
      },
      "source": [
        "<a href=\"https://colab.research.google.com/github/2303a51060Nirnaya/Aiml-2025/blob/main/lab_3.ipynb\" target=\"_parent\"><img src=\"https://colab.research.google.com/assets/colab-badge.svg\" alt=\"Open In Colab\"/></a>"
      ]
    },
    {
      "cell_type": "markdown",
      "source": [
        " part-1: Implement the AI Game Strategy"
      ],
      "metadata": {
        "id": "i6a6dfg9g0X8"
      }
    },
    {
      "cell_type": "code",
      "source": [
        "from collections import namedtuple,Counter,defaultdict\n",
        "import random\n",
        "import math\n",
        "import functools\n",
        "cache = functools.lru_cache(10**6)"
      ],
      "metadata": {
        "id": "mrezE4HaibYx"
      },
      "execution_count": null,
      "outputs": []
    },
    {
      "cell_type": "code",
      "source": [
        "class Game:\n",
        "  def actions(self, state ):\n",
        "      raise NotImplementedError\n",
        "  def result(self, state , move ):\n",
        "      raise NotImplementedError\n",
        "  def is_terminal (self, state ):\n",
        "      return not self.actions(state)\n",
        "  def utility(self, state , player ):\n",
        "      raise NotImplementedError"
      ],
      "metadata": {
        "id": "QlTRMQgojFo_"
      },
      "execution_count": null,
      "outputs": []
    },
    {
      "cell_type": "code",
      "source": [
        "def play_game (game , strategies : dict , verbose =False ):\n",
        "     state = game. initial\n",
        "     while not game. is_terminal (state ):\n",
        "       player = state. to_move\n",
        "       move = strategies [ player ](game , state)\n",
        "       state = game. result (state , move)\n",
        "       if verbose :\n",
        "                print('Player', player , 'move:', move)\n",
        "                print(state)\n",
        "       return state"
      ],
      "metadata": {
        "id": "MKHrxPhAkXxc"
      },
      "execution_count": null,
      "outputs": []
    },
    {
      "cell_type": "markdown",
      "source": [
        "part-2: Implement the Game Strategy Algorithms."
      ],
      "metadata": {
        "id": "UooIahn5mgQg"
      }
    },
    {
      "cell_type": "code",
      "source": [
        "import math\n",
        "def minimax_search(game, state):\n",
        "    player = state.to_move\n",
        "\n",
        "    def max_value(state):\n",
        "        if game.is_terminal(state):\n",
        "            return game.utility(state, player), None\n",
        "\n",
        "        v, move = -math.inf, None\n",
        "\n",
        "        for a in game.actions(state):\n",
        "            v2, _ = min_value(game.result(state, a))\n",
        "            if v2 > v:\n",
        "                v, move = v2, a\n",
        "\n",
        "        return v, move\n",
        "\n",
        "    def min_value(state):\n",
        "        if game.is_terminal(state):\n",
        "            return game.utility(state, player), None\n",
        "\n",
        "        v, move = math.inf, None\n",
        "\n",
        "        for a in game.actions(state):\n",
        "            v2, _ = max_value(game.result(state, a))\n",
        "            if v2 < v:\n",
        "                v, move = v2, a\n",
        "\n",
        "        return v, move\n",
        "\n",
        "    return max_value(state)\n",
        "\n",
        "infinity = math.inf\n"
      ],
      "metadata": {
        "id": "4viTrlr1trWm"
      },
      "execution_count": null,
      "outputs": []
    },
    {
      "cell_type": "code",
      "source": [
        "def alphabeta_search(game, state):\n",
        "    player = state.to_move\n",
        "\n",
        "    def max_value(state, alpha, beta):\n",
        "        if game.is_terminal(state):\n",
        "            return game.utility(state, player), None\n",
        "\n",
        "        v, best_move = -math.inf, None\n",
        "        for a in game.actions(state):\n",
        "            v2, _ = min_value(game.result(state, a), alpha, beta)\n",
        "            if v2 > v:\n",
        "                v, best_move = v2, a\n",
        "            alpha = max(alpha, v)\n",
        "            if v >= beta:\n",
        "                return v, best_move\n",
        "        return v, best_move\n",
        "\n",
        "    def min_value(state, alpha, beta):\n",
        "        if game.is_terminal(state):\n",
        "            return game.utility(state, player), None\n",
        "\n",
        "        v, best_move = math.inf, None\n",
        "        for a in game.actions(state):\n",
        "            v2, _ = max_value(game.result(state, a), alpha, beta)\n",
        "            if v2 < v:\n",
        "                v, best_move = v2, a\n",
        "            beta = min(beta, v)\n",
        "            if v <= alpha:\n",
        "                return v, best_move\n",
        "        return v, best_move\n",
        "\n",
        "    return max_value(state, -math.inf, math.inf)"
      ],
      "metadata": {
        "id": "RZaqH8vIt2uz"
      },
      "execution_count": null,
      "outputs": []
    },
    {
      "cell_type": "markdown",
      "source": [
        "Part_3: Implement the Game Strategy using TicTocToe."
      ],
      "metadata": {
        "id": "cKRTBv1Lvkx1"
      }
    },
    {
      "cell_type": "code",
      "source": [
        "def _init_(self, height=3, width=3, k=3):\n",
        "        self.k = k  # k in a row\n",
        "        self.squares = {(x, y) for x in range(width) for y in range(height)}\n",
        "        self.initial = Board(height=height, width=width, to_move='X', utility=0)\n",
        "\n",
        "def actions(self,board):\n",
        "        \"\"\"Legal moves are any square not yet taken.\"\"\"\n",
        "        return self.squares_set(board)\n",
        "\n",
        "def result(self, board, square):\n",
        "        \"\"\"Place a marker for the current player on the square.\"\"\"\n",
        "        player = board.to_move\n",
        "        board = board.new({square: player}, to_move=('O' if player == 'X' else 'X'))\n",
        "        win = k_in_row(board, player, square, self.k)\n",
        "        board.utility = 0 if not win else 1 if player == 'X' else -1\n",
        "        return board\n",
        "\n",
        "def utility(self, board, player):\n",
        "        \"\"\"Return the value to the player; 1 for win, -1 for loss, 0 otherwise.\"\"\"\n",
        "        return board.utility if player == 'X' else -board.utility\n",
        "\n",
        "def is_terminal(self, board):\n",
        "        \"\"\"A board is a terminal state if it is won or there are no empty squares.\"\"\"\n",
        "        return board.utility != 0 or len(self.squares) == len(board)\n",
        "\n",
        "def display(self, board):\n",
        "        print(board)\n",
        "\n",
        "def k_in_row(board, player, square, k):\n",
        "    \"\"\"True if the player has k pieces in a line through the square.\"\"\"\n",
        "    def in_row(x, y, dx, dy):\n",
        "        return 0 if board[x, y] != player else 1 + in_row(x + dx, y + dy, dx, dy)\n",
        "        return any(in_row(*square, dx, dy) + in_row(*square, -dx, -dy) - 1 >= k\n",
        "                   for (dx, dy) in ((0, 1), (1, 0), (1, 1), (1, -1)))"
      ],
      "metadata": {
        "id": "pJezb8-pwYy7"
      },
      "execution_count": null,
      "outputs": []
    },
    {
      "cell_type": "code",
      "source": [
        "from collections import defaultdict\n",
        "\n",
        "class Board(defaultdict):\n",
        "    \"\"\"A board has the player to move, a cached utility value, and a dict of {(x, y): player} entries, where player is 'X' or 'O'.\"\"\"\n",
        "    empty = '.'\n",
        "    off = '#'\n",
        "\n",
        "    def __init__(self, width=8, height=8, to_move=None, **kwds):\n",
        "        self.dict.update(width=width, height=height, to_move=to_move, **kwds)\n",
        "\n",
        "    def new(self, changes: dict, **kwds) -> 'Board':\n",
        "        \"\"\"Given a dict of {(x, y): contents} changes, return a new Board with the changes.\"\"\"\n",
        "        board = Board(width=self.width, height=self.height, **kwds)\n",
        "        board.update(self)\n",
        "        board.update(changes)\n",
        "        return board\n",
        "\n",
        "    def missing(self, loc):\n",
        "        x, y = loc\n",
        "        if 0 <= x < self.width and 0 <= y < self.height:\n",
        "            return self.empty\n",
        "        else:\n",
        "            return self.off\n",
        "\n",
        "    def hash(self):\n",
        "            return hash(tuple(sorted(self.items())) + hash(self.to_move))\n",
        "\n",
        "    def __repr__(self):\n",
        "        def row(y):\n",
        "            return ' '.join(self[x, y] for x in range(self.width))\n",
        "        return '\\n'.join(map(row, range(self.height))) + '\\n'"
      ],
      "metadata": {
        "id": "JCVaQBLbN9pQ"
      },
      "execution_count": null,
      "outputs": []
    },
    {
      "cell_type": "code",
      "source": [
        "def random_player(game, state): return random.choice(list(game.actions(state)))\n",
        "def player(search_algorithm):\n",
        "  return lambda game, state: search_algorithm(game, state)[1]"
      ],
      "metadata": {
        "id": "zUnGtqi5zjSw"
      },
      "execution_count": null,
      "outputs": []
    }
  ]
}